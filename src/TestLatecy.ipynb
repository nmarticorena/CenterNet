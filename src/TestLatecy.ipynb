{
 "cells": [
  {
   "cell_type": "code",
   "execution_count": 5,
   "metadata": {
    "pycharm": {
     "is_executing": false
    }
   },
   "outputs": [],
   "source": [
    "import time\n",
    "import numpy as np\n",
    "import torch\n",
    "def computeTime(model, device='cuda'):\n",
    "    inputs = torch.randn(10, 3, 224, 224)\n",
    "    if device == 'cuda':\n",
    "        model = model.cuda()\n",
    "        inputs = inputs.cuda()\n",
    "\n",
    "    model.eval()\n",
    "\n",
    "    i = 0\n",
    "    time_spent = []\n",
    "    while i < 100:\n",
    "        start_time = time.time()\n",
    "        with torch.no_grad():\n",
    "            _ = model(inputs)\n",
    "\n",
    "        if device == 'cuda':\n",
    "            torch.cuda.synchronize()  # wait for cuda to finish (cuda is asynchronous!)\n",
    "        if i != 0:\n",
    "            time_spent.append(time.time() - start_time)\n",
    "        i += 1\n",
    "    print('Avg execution time (ms): {:.3f}'.format(np.mean(time_spent)))"
   ]
  },
  {
   "cell_type": "code",
   "execution_count": 6,
   "metadata": {
    "pycharm": {
     "is_executing": false
    }
   },
   "outputs": [],
   "source": [
    "import os"
   ]
  },
  {
   "cell_type": "code",
   "execution_count": 7,
   "metadata": {
    "pycharm": {
     "is_executing": false
    }
   },
   "outputs": [
    {
     "data": {
      "text/plain": "<module 'posixpath' from '/home/nmarticorena/anaconda3/envs/CenterNet/lib/python3.6/posixpath.py'>"
     },
     "metadata": {},
     "output_type": "execute_result",
     "execution_count": 7
    }
   ],
   "source": [
    "os.path"
   ]
  },
  {
   "cell_type": "code",
   "execution_count": 7,
   "metadata": {
    "pycharm": {
     "is_executing": false
    }
   },
   "outputs": [],
   "source": []
  }
 ],
 "metadata": {
  "kernelspec": {
   "display_name": "Python 3",
   "language": "python",
   "name": "python3"
  },
  "language_info": {
   "codemirror_mode": {
    "name": "ipython",
    "version": 3
   },
   "file_extension": ".py",
   "mimetype": "text/x-python",
   "name": "python",
   "nbconvert_exporter": "python",
   "pygments_lexer": "ipython3",
   "version": "3.6.9"
  },
  "pycharm": {
   "stem_cell": {
    "cell_type": "raw",
    "source": [],
    "metadata": {
     "collapsed": false
    }
   }
  }
 },
 "nbformat": 4,
 "nbformat_minor": 2
}